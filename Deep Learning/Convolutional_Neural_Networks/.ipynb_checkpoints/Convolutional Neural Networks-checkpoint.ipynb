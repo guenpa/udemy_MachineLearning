{
 "cells": [
  {
   "cell_type": "code",
   "execution_count": 1,
   "metadata": {},
   "outputs": [
    {
     "name": "stderr",
     "output_type": "stream",
     "text": [
      "Using TensorFlow backend.\n",
      "/home/patryk_guenther/anaconda3/lib/python3.6/site-packages/ipykernel_launcher.py:25: UserWarning: Update your `Conv2D` call to the Keras 2 API: `Conv2D(32, (3, 3), input_shape=(64, 64, 3..., activation=\"relu\")`\n",
      "/home/patryk_guenther/anaconda3/lib/python3.6/site-packages/ipykernel_launcher.py:31: UserWarning: Update your `Conv2D` call to the Keras 2 API: `Conv2D(32, (3, 3), activation=\"relu\")`\n",
      "/home/patryk_guenther/anaconda3/lib/python3.6/site-packages/ipykernel_launcher.py:38: UserWarning: Update your `Dense` call to the Keras 2 API: `Dense(activation=\"relu\", units=128)`\n",
      "/home/patryk_guenther/anaconda3/lib/python3.6/site-packages/ipykernel_launcher.py:39: UserWarning: Update your `Dense` call to the Keras 2 API: `Dense(activation=\"sigmoid\", units=1)`\n"
     ]
    }
   ],
   "source": [
    "# Convolutional Neural Network\n",
    "\n",
    "# Installing Theano\n",
    "# pip install --upgrade --no-deps git+git://github.com/Theano/Theano.git\n",
    "\n",
    "# Installing Tensorflow\n",
    "# Install Tensorflow from the website: https://www.tensorflow.org/versions/r0.12/get_started/os_setup.html\n",
    "\n",
    "# Installing Keras\n",
    "# pip install --upgrade keras\n",
    "\n",
    "# Part 1 - Building the CNN\n",
    "\n",
    "# Importing the Keras libraries and packages\n",
    "from keras.models import Sequential\n",
    "from keras.layers import Convolution2D\n",
    "from keras.layers import MaxPooling2D\n",
    "from keras.layers import Flatten\n",
    "from keras.layers import Dense\n",
    "\n",
    "# Initialising the CNN\n",
    "classifier = Sequential()\n",
    "\n",
    "# Step 1 - Convolution\n",
    "classifier.add(Convolution2D(32, 3, 3, input_shape = (64, 64, 3), activation = 'relu'))\n",
    "\n",
    "# Step 2 - Pooling\n",
    "classifier.add(MaxPooling2D(pool_size = (2, 2)))\n",
    "\n",
    "# Adding a second convolutional layer\n",
    "classifier.add(Convolution2D(32, 3, 3, activation = 'relu'))\n",
    "classifier.add(MaxPooling2D(pool_size = (2, 2)))\n",
    "\n",
    "# Step 3 - Flattening\n",
    "classifier.add(Flatten())\n",
    "\n",
    "# Step 4 - Full connection\n",
    "classifier.add(Dense(output_dim = 128, activation = 'relu'))\n",
    "classifier.add(Dense(output_dim = 1, activation = 'sigmoid'))\n",
    "\n",
    "# Compiling the CNN\n",
    "classifier.compile(optimizer = 'adam', loss = 'binary_crossentropy', metrics = ['accuracy'])\n",
    "\n"
   ]
  },
  {
   "cell_type": "code",
   "execution_count": 2,
   "metadata": {},
   "outputs": [
    {
     "name": "stdout",
     "output_type": "stream",
     "text": [
      "Found 8000 images belonging to 2 classes.\n",
      "Found 2000 images belonging to 2 classes.\n"
     ]
    },
    {
     "name": "stderr",
     "output_type": "stream",
     "text": [
      "/home/patryk_guenther/anaconda3/lib/python3.6/site-packages/ipykernel_launcher.py:26: UserWarning: The semantics of the Keras 2 argument `steps_per_epoch` is not the same as the Keras 1 argument `samples_per_epoch`. `steps_per_epoch` is the number of batches to draw from the generator at each epoch. Basically steps_per_epoch = samples_per_epoch/batch_size. Similarly `nb_val_samples`->`validation_steps` and `val_samples`->`steps` arguments have changed. Update your method calls accordingly.\n",
      "/home/patryk_guenther/anaconda3/lib/python3.6/site-packages/ipykernel_launcher.py:26: UserWarning: Update your `fit_generator` call to the Keras 2 API: `fit_generator(<keras.pre..., validation_data=<keras.pre..., steps_per_epoch=250, epochs=25, validation_steps=2000)`\n"
     ]
    },
    {
     "name": "stdout",
     "output_type": "stream",
     "text": [
      "Epoch 1/25\n",
      "250/250 [==============================] - 252s 1s/step - loss: 0.6645 - acc: 0.5941 - val_loss: 0.6070 - val_acc: 0.6639\n",
      "Epoch 2/25\n",
      "250/250 [==============================] - 251s 1s/step - loss: 0.5959 - acc: 0.6829 - val_loss: 0.5500 - val_acc: 0.7260\n",
      "Epoch 3/25\n",
      "250/250 [==============================] - 252s 1s/step - loss: 0.5539 - acc: 0.7177 - val_loss: 0.5136 - val_acc: 0.7456\n",
      "Epoch 4/25\n",
      "250/250 [==============================] - 252s 1s/step - loss: 0.5206 - acc: 0.7349 - val_loss: 0.5203 - val_acc: 0.7525\n",
      "Epoch 5/25\n",
      "250/250 [==============================] - 251s 1s/step - loss: 0.5037 - acc: 0.7524 - val_loss: 0.5315 - val_acc: 0.7415\n",
      "Epoch 6/25\n",
      "250/250 [==============================] - 252s 1s/step - loss: 0.4863 - acc: 0.7628 - val_loss: 0.4754 - val_acc: 0.7818\n",
      "Epoch 7/25\n",
      "250/250 [==============================] - 252s 1s/step - loss: 0.4609 - acc: 0.7845 - val_loss: 0.4675 - val_acc: 0.7811\n",
      "Epoch 8/25\n",
      "250/250 [==============================] - 252s 1s/step - loss: 0.4577 - acc: 0.7802 - val_loss: 0.5064 - val_acc: 0.7703\n",
      "Epoch 9/25\n",
      "250/250 [==============================] - 252s 1s/step - loss: 0.4318 - acc: 0.7939 - val_loss: 0.4618 - val_acc: 0.7993\n",
      "Epoch 10/25\n",
      "250/250 [==============================] - 251s 1s/step - loss: 0.4119 - acc: 0.8055 - val_loss: 0.4546 - val_acc: 0.7965\n",
      "Epoch 11/25\n",
      "250/250 [==============================] - 250s 1s/step - loss: 0.4048 - acc: 0.8168 - val_loss: 0.4611 - val_acc: 0.7875\n",
      "Epoch 12/25\n",
      "250/250 [==============================] - 251s 1s/step - loss: 0.3911 - acc: 0.8226 - val_loss: 0.4795 - val_acc: 0.7840\n",
      "Epoch 13/25\n",
      "250/250 [==============================] - 251s 1s/step - loss: 0.3821 - acc: 0.8231 - val_loss: 0.5007 - val_acc: 0.7725\n",
      "Epoch 14/25\n",
      "250/250 [==============================] - 250s 998ms/step - loss: 0.3642 - acc: 0.8357 - val_loss: 0.4582 - val_acc: 0.8050\n",
      "Epoch 15/25\n",
      "250/250 [==============================] - 250s 999ms/step - loss: 0.3394 - acc: 0.8489 - val_loss: 0.4748 - val_acc: 0.8055\n",
      "Epoch 16/25\n",
      "250/250 [==============================] - 250s 999ms/step - loss: 0.3374 - acc: 0.8494 - val_loss: 0.4606 - val_acc: 0.8045\n",
      "Epoch 17/25\n",
      "250/250 [==============================] - 251s 1s/step - loss: 0.3150 - acc: 0.8631 - val_loss: 0.5038 - val_acc: 0.7916\n",
      "Epoch 18/25\n",
      "250/250 [==============================] - 250s 1s/step - loss: 0.3045 - acc: 0.8674 - val_loss: 0.4964 - val_acc: 0.8065\n",
      "Epoch 19/25\n",
      "250/250 [==============================] - 250s 1s/step - loss: 0.2936 - acc: 0.8725 - val_loss: 0.5354 - val_acc: 0.7937\n",
      "Epoch 20/25\n",
      "250/250 [==============================] - 251s 1s/step - loss: 0.2779 - acc: 0.8794 - val_loss: 0.5162 - val_acc: 0.8011\n",
      "Epoch 21/25\n",
      "250/250 [==============================] - 250s 1s/step - loss: 0.2662 - acc: 0.8862 - val_loss: 0.5234 - val_acc: 0.7999\n",
      "Epoch 22/25\n",
      "250/250 [==============================] - 251s 1s/step - loss: 0.2382 - acc: 0.9004 - val_loss: 0.5582 - val_acc: 0.7973\n",
      "Epoch 23/25\n",
      "250/250 [==============================] - 251s 1s/step - loss: 0.2324 - acc: 0.9030 - val_loss: 0.5542 - val_acc: 0.7980\n",
      "Epoch 24/25\n",
      "250/250 [==============================] - 251s 1s/step - loss: 0.2281 - acc: 0.9060 - val_loss: 0.5460 - val_acc: 0.8136\n",
      "Epoch 25/25\n",
      "250/250 [==============================] - 251s 1s/step - loss: 0.2114 - acc: 0.9130 - val_loss: 0.5626 - val_acc: 0.8077\n"
     ]
    },
    {
     "data": {
      "text/plain": [
       "<keras.callbacks.History at 0x7fe491f53c50>"
      ]
     },
     "execution_count": 2,
     "metadata": {},
     "output_type": "execute_result"
    }
   ],
   "source": [
    "# Part 2 - Fitting the CNN to the images\n",
    "\n",
    "from keras.preprocessing.image import ImageDataGenerator\n",
    "\n",
    "train_datagen = ImageDataGenerator(rescale = 1./255,\n",
    "                                   shear_range = 0.2,\n",
    "                                   zoom_range = 0.2,\n",
    "                                   horizontal_flip = True)\n",
    "\n",
    "test_datagen = ImageDataGenerator(rescale = 1./255)\n",
    "\n",
    "training_set = train_datagen.flow_from_directory('dataset/training_set',\n",
    "                                                 target_size = (64, 64),\n",
    "                                                 batch_size = 32,\n",
    "                                                 class_mode = 'binary')\n",
    "\n",
    "test_set = test_datagen.flow_from_directory('dataset/test_set',\n",
    "                                            target_size = (64, 64),\n",
    "                                            batch_size = 32,\n",
    "                                            class_mode = 'binary')\n",
    "\n",
    "classifier.fit_generator(training_set,\n",
    "                         samples_per_epoch = 8000,\n",
    "                         nb_epoch = 25,\n",
    "                         validation_data = test_set,\n",
    "                         nb_val_samples = 2000)"
   ]
  },
  {
   "cell_type": "code",
   "execution_count": null,
   "metadata": {},
   "outputs": [],
   "source": []
  }
 ],
 "metadata": {
  "kernelspec": {
   "display_name": "Python 3",
   "language": "python",
   "name": "python3"
  },
  "language_info": {
   "codemirror_mode": {
    "name": "ipython",
    "version": 3
   },
   "file_extension": ".py",
   "mimetype": "text/x-python",
   "name": "python",
   "nbconvert_exporter": "python",
   "pygments_lexer": "ipython3",
   "version": "3.6.5"
  }
 },
 "nbformat": 4,
 "nbformat_minor": 2
}
